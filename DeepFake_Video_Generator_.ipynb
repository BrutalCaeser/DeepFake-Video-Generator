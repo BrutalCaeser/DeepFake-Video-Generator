{
  "nbformat": 4,
  "nbformat_minor": 0,
  "metadata": {
    "colab": {
      "name": "DeepFake Video Generator .ipynb",
      "provenance": [],
      "collapsed_sections": [],
      "include_colab_link": true
    },
    "kernelspec": {
      "name": "python3",
      "display_name": "Python 3"
    },
    "accelerator": "GPU",
    "widgets": {
      "application/vnd.jupyter.widget-state+json": {
        "65fc08dcf48d48308e542142388a0e17": {
          "model_module": "@jupyter-widgets/controls",
          "model_name": "HBoxModel",
          "model_module_version": "1.5.0",
          "state": {
            "_view_name": "HBoxView",
            "_dom_classes": [],
            "_model_name": "HBoxModel",
            "_view_module": "@jupyter-widgets/controls",
            "_model_module_version": "1.5.0",
            "_view_count": null,
            "_view_module_version": "1.5.0",
            "box_style": "",
            "layout": "IPY_MODEL_401a1b4366ae4d1f99cfea97358a4e4b",
            "_model_module": "@jupyter-widgets/controls",
            "children": [
              "IPY_MODEL_85d334e92c60492cb340add1bd244b2f",
              "IPY_MODEL_6a3c4dc29f9a407ba2df20c512035bf8",
              "IPY_MODEL_bb0ca5b778b4498b9d8db1d1485ec290"
            ]
          }
        },
        "401a1b4366ae4d1f99cfea97358a4e4b": {
          "model_module": "@jupyter-widgets/base",
          "model_name": "LayoutModel",
          "model_module_version": "1.2.0",
          "state": {
            "_view_name": "LayoutView",
            "grid_template_rows": null,
            "right": null,
            "justify_content": null,
            "_view_module": "@jupyter-widgets/base",
            "overflow": null,
            "_model_module_version": "1.2.0",
            "_view_count": null,
            "flex_flow": null,
            "width": null,
            "min_width": null,
            "border": null,
            "align_items": null,
            "bottom": null,
            "_model_module": "@jupyter-widgets/base",
            "top": null,
            "grid_column": null,
            "overflow_y": null,
            "overflow_x": null,
            "grid_auto_flow": null,
            "grid_area": null,
            "grid_template_columns": null,
            "flex": null,
            "_model_name": "LayoutModel",
            "justify_items": null,
            "grid_row": null,
            "max_height": null,
            "align_content": null,
            "visibility": null,
            "align_self": null,
            "height": null,
            "min_height": null,
            "padding": null,
            "grid_auto_rows": null,
            "grid_gap": null,
            "max_width": null,
            "order": null,
            "_view_module_version": "1.2.0",
            "grid_template_areas": null,
            "object_position": null,
            "object_fit": null,
            "grid_auto_columns": null,
            "margin": null,
            "display": null,
            "left": null
          }
        },
        "85d334e92c60492cb340add1bd244b2f": {
          "model_module": "@jupyter-widgets/controls",
          "model_name": "HTMLModel",
          "model_module_version": "1.5.0",
          "state": {
            "_view_name": "HTMLView",
            "style": "IPY_MODEL_e4c2b31ffe0a49b7acfdc6bfc186d0d0",
            "_dom_classes": [],
            "description": "",
            "_model_name": "HTMLModel",
            "placeholder": "​",
            "_view_module": "@jupyter-widgets/controls",
            "_model_module_version": "1.5.0",
            "value": "100%",
            "_view_count": null,
            "_view_module_version": "1.5.0",
            "description_tooltip": null,
            "_model_module": "@jupyter-widgets/controls",
            "layout": "IPY_MODEL_8ad42aa0c66b43a1aa01d4871f515012"
          }
        },
        "6a3c4dc29f9a407ba2df20c512035bf8": {
          "model_module": "@jupyter-widgets/controls",
          "model_name": "FloatProgressModel",
          "model_module_version": "1.5.0",
          "state": {
            "_view_name": "ProgressView",
            "style": "IPY_MODEL_d796a91e45ea42fd96f5b7d0faf531fd",
            "_dom_classes": [],
            "description": "",
            "_model_name": "FloatProgressModel",
            "bar_style": "success",
            "max": 89843225,
            "_view_module": "@jupyter-widgets/controls",
            "_model_module_version": "1.5.0",
            "value": 89843225,
            "_view_count": null,
            "_view_module_version": "1.5.0",
            "orientation": "horizontal",
            "min": 0,
            "description_tooltip": null,
            "_model_module": "@jupyter-widgets/controls",
            "layout": "IPY_MODEL_c5449362c1654f80b4ba025bf38a28bf"
          }
        },
        "bb0ca5b778b4498b9d8db1d1485ec290": {
          "model_module": "@jupyter-widgets/controls",
          "model_name": "HTMLModel",
          "model_module_version": "1.5.0",
          "state": {
            "_view_name": "HTMLView",
            "style": "IPY_MODEL_5607bc08d5574de3a1ec6ee898e28f88",
            "_dom_classes": [],
            "description": "",
            "_model_name": "HTMLModel",
            "placeholder": "​",
            "_view_module": "@jupyter-widgets/controls",
            "_model_module_version": "1.5.0",
            "value": " 85.7M/85.7M [00:00&lt;00:00, 158MB/s]",
            "_view_count": null,
            "_view_module_version": "1.5.0",
            "description_tooltip": null,
            "_model_module": "@jupyter-widgets/controls",
            "layout": "IPY_MODEL_7dabe6be37774a3e8cf94afe5d70c985"
          }
        },
        "e4c2b31ffe0a49b7acfdc6bfc186d0d0": {
          "model_module": "@jupyter-widgets/controls",
          "model_name": "DescriptionStyleModel",
          "model_module_version": "1.5.0",
          "state": {
            "_view_name": "StyleView",
            "_model_name": "DescriptionStyleModel",
            "description_width": "",
            "_view_module": "@jupyter-widgets/base",
            "_model_module_version": "1.5.0",
            "_view_count": null,
            "_view_module_version": "1.2.0",
            "_model_module": "@jupyter-widgets/controls"
          }
        },
        "8ad42aa0c66b43a1aa01d4871f515012": {
          "model_module": "@jupyter-widgets/base",
          "model_name": "LayoutModel",
          "model_module_version": "1.2.0",
          "state": {
            "_view_name": "LayoutView",
            "grid_template_rows": null,
            "right": null,
            "justify_content": null,
            "_view_module": "@jupyter-widgets/base",
            "overflow": null,
            "_model_module_version": "1.2.0",
            "_view_count": null,
            "flex_flow": null,
            "width": null,
            "min_width": null,
            "border": null,
            "align_items": null,
            "bottom": null,
            "_model_module": "@jupyter-widgets/base",
            "top": null,
            "grid_column": null,
            "overflow_y": null,
            "overflow_x": null,
            "grid_auto_flow": null,
            "grid_area": null,
            "grid_template_columns": null,
            "flex": null,
            "_model_name": "LayoutModel",
            "justify_items": null,
            "grid_row": null,
            "max_height": null,
            "align_content": null,
            "visibility": null,
            "align_self": null,
            "height": null,
            "min_height": null,
            "padding": null,
            "grid_auto_rows": null,
            "grid_gap": null,
            "max_width": null,
            "order": null,
            "_view_module_version": "1.2.0",
            "grid_template_areas": null,
            "object_position": null,
            "object_fit": null,
            "grid_auto_columns": null,
            "margin": null,
            "display": null,
            "left": null
          }
        },
        "d796a91e45ea42fd96f5b7d0faf531fd": {
          "model_module": "@jupyter-widgets/controls",
          "model_name": "ProgressStyleModel",
          "model_module_version": "1.5.0",
          "state": {
            "_view_name": "StyleView",
            "_model_name": "ProgressStyleModel",
            "description_width": "",
            "_view_module": "@jupyter-widgets/base",
            "_model_module_version": "1.5.0",
            "_view_count": null,
            "_view_module_version": "1.2.0",
            "bar_color": null,
            "_model_module": "@jupyter-widgets/controls"
          }
        },
        "c5449362c1654f80b4ba025bf38a28bf": {
          "model_module": "@jupyter-widgets/base",
          "model_name": "LayoutModel",
          "model_module_version": "1.2.0",
          "state": {
            "_view_name": "LayoutView",
            "grid_template_rows": null,
            "right": null,
            "justify_content": null,
            "_view_module": "@jupyter-widgets/base",
            "overflow": null,
            "_model_module_version": "1.2.0",
            "_view_count": null,
            "flex_flow": null,
            "width": null,
            "min_width": null,
            "border": null,
            "align_items": null,
            "bottom": null,
            "_model_module": "@jupyter-widgets/base",
            "top": null,
            "grid_column": null,
            "overflow_y": null,
            "overflow_x": null,
            "grid_auto_flow": null,
            "grid_area": null,
            "grid_template_columns": null,
            "flex": null,
            "_model_name": "LayoutModel",
            "justify_items": null,
            "grid_row": null,
            "max_height": null,
            "align_content": null,
            "visibility": null,
            "align_self": null,
            "height": null,
            "min_height": null,
            "padding": null,
            "grid_auto_rows": null,
            "grid_gap": null,
            "max_width": null,
            "order": null,
            "_view_module_version": "1.2.0",
            "grid_template_areas": null,
            "object_position": null,
            "object_fit": null,
            "grid_auto_columns": null,
            "margin": null,
            "display": null,
            "left": null
          }
        },
        "5607bc08d5574de3a1ec6ee898e28f88": {
          "model_module": "@jupyter-widgets/controls",
          "model_name": "DescriptionStyleModel",
          "model_module_version": "1.5.0",
          "state": {
            "_view_name": "StyleView",
            "_model_name": "DescriptionStyleModel",
            "description_width": "",
            "_view_module": "@jupyter-widgets/base",
            "_model_module_version": "1.5.0",
            "_view_count": null,
            "_view_module_version": "1.2.0",
            "_model_module": "@jupyter-widgets/controls"
          }
        },
        "7dabe6be37774a3e8cf94afe5d70c985": {
          "model_module": "@jupyter-widgets/base",
          "model_name": "LayoutModel",
          "model_module_version": "1.2.0",
          "state": {
            "_view_name": "LayoutView",
            "grid_template_rows": null,
            "right": null,
            "justify_content": null,
            "_view_module": "@jupyter-widgets/base",
            "overflow": null,
            "_model_module_version": "1.2.0",
            "_view_count": null,
            "flex_flow": null,
            "width": null,
            "min_width": null,
            "border": null,
            "align_items": null,
            "bottom": null,
            "_model_module": "@jupyter-widgets/base",
            "top": null,
            "grid_column": null,
            "overflow_y": null,
            "overflow_x": null,
            "grid_auto_flow": null,
            "grid_area": null,
            "grid_template_columns": null,
            "flex": null,
            "_model_name": "LayoutModel",
            "justify_items": null,
            "grid_row": null,
            "max_height": null,
            "align_content": null,
            "visibility": null,
            "align_self": null,
            "height": null,
            "min_height": null,
            "padding": null,
            "grid_auto_rows": null,
            "grid_gap": null,
            "max_width": null,
            "order": null,
            "_view_module_version": "1.2.0",
            "grid_template_areas": null,
            "object_position": null,
            "object_fit": null,
            "grid_auto_columns": null,
            "margin": null,
            "display": null,
            "left": null
          }
        },
        "aa4a884ba1e24cc5abe9218177c0490c": {
          "model_module": "@jupyter-widgets/controls",
          "model_name": "HBoxModel",
          "model_module_version": "1.5.0",
          "state": {
            "_view_name": "HBoxView",
            "_dom_classes": [],
            "_model_name": "HBoxModel",
            "_view_module": "@jupyter-widgets/controls",
            "_model_module_version": "1.5.0",
            "_view_count": null,
            "_view_module_version": "1.5.0",
            "box_style": "",
            "layout": "IPY_MODEL_a2b3d8e6a4d2441dbd2331cdb1d91661",
            "_model_module": "@jupyter-widgets/controls",
            "children": [
              "IPY_MODEL_0ed2f08b0aa94391986bf4714a8f03ef",
              "IPY_MODEL_b741e67a002944f5882d087a40d942ff",
              "IPY_MODEL_4efc9887c19f439b8cff068ae1799871"
            ]
          }
        },
        "a2b3d8e6a4d2441dbd2331cdb1d91661": {
          "model_module": "@jupyter-widgets/base",
          "model_name": "LayoutModel",
          "model_module_version": "1.2.0",
          "state": {
            "_view_name": "LayoutView",
            "grid_template_rows": null,
            "right": null,
            "justify_content": null,
            "_view_module": "@jupyter-widgets/base",
            "overflow": null,
            "_model_module_version": "1.2.0",
            "_view_count": null,
            "flex_flow": null,
            "width": null,
            "min_width": null,
            "border": null,
            "align_items": null,
            "bottom": null,
            "_model_module": "@jupyter-widgets/base",
            "top": null,
            "grid_column": null,
            "overflow_y": null,
            "overflow_x": null,
            "grid_auto_flow": null,
            "grid_area": null,
            "grid_template_columns": null,
            "flex": null,
            "_model_name": "LayoutModel",
            "justify_items": null,
            "grid_row": null,
            "max_height": null,
            "align_content": null,
            "visibility": null,
            "align_self": null,
            "height": null,
            "min_height": null,
            "padding": null,
            "grid_auto_rows": null,
            "grid_gap": null,
            "max_width": null,
            "order": null,
            "_view_module_version": "1.2.0",
            "grid_template_areas": null,
            "object_position": null,
            "object_fit": null,
            "grid_auto_columns": null,
            "margin": null,
            "display": null,
            "left": null
          }
        },
        "0ed2f08b0aa94391986bf4714a8f03ef": {
          "model_module": "@jupyter-widgets/controls",
          "model_name": "HTMLModel",
          "model_module_version": "1.5.0",
          "state": {
            "_view_name": "HTMLView",
            "style": "IPY_MODEL_507898bf0cd34e46a0678d87f2d9d611",
            "_dom_classes": [],
            "description": "",
            "_model_name": "HTMLModel",
            "placeholder": "​",
            "_view_module": "@jupyter-widgets/controls",
            "_model_module_version": "1.5.0",
            "value": "100%",
            "_view_count": null,
            "_view_module_version": "1.5.0",
            "description_tooltip": null,
            "_model_module": "@jupyter-widgets/controls",
            "layout": "IPY_MODEL_8e1b53964df6466c85686292cd5a39d2"
          }
        },
        "b741e67a002944f5882d087a40d942ff": {
          "model_module": "@jupyter-widgets/controls",
          "model_name": "FloatProgressModel",
          "model_module_version": "1.5.0",
          "state": {
            "_view_name": "ProgressView",
            "style": "IPY_MODEL_013ee142e84d4b61ba8d0751aa9ed7ef",
            "_dom_classes": [],
            "description": "",
            "_model_name": "FloatProgressModel",
            "bar_style": "success",
            "max": 96316515,
            "_view_module": "@jupyter-widgets/controls",
            "_model_module_version": "1.5.0",
            "value": 96316515,
            "_view_count": null,
            "_view_module_version": "1.5.0",
            "orientation": "horizontal",
            "min": 0,
            "description_tooltip": null,
            "_model_module": "@jupyter-widgets/controls",
            "layout": "IPY_MODEL_c90c3f91c84a43dbb916fd03510e0efe"
          }
        },
        "4efc9887c19f439b8cff068ae1799871": {
          "model_module": "@jupyter-widgets/controls",
          "model_name": "HTMLModel",
          "model_module_version": "1.5.0",
          "state": {
            "_view_name": "HTMLView",
            "style": "IPY_MODEL_0f5ed2a6ca7c463da469ab307ee8eed0",
            "_dom_classes": [],
            "description": "",
            "_model_name": "HTMLModel",
            "placeholder": "​",
            "_view_module": "@jupyter-widgets/controls",
            "_model_module_version": "1.5.0",
            "value": " 91.9M/91.9M [00:00&lt;00:00, 149MB/s]",
            "_view_count": null,
            "_view_module_version": "1.5.0",
            "description_tooltip": null,
            "_model_module": "@jupyter-widgets/controls",
            "layout": "IPY_MODEL_d865ae9d350245e6b744c8e1b95e78f2"
          }
        },
        "507898bf0cd34e46a0678d87f2d9d611": {
          "model_module": "@jupyter-widgets/controls",
          "model_name": "DescriptionStyleModel",
          "model_module_version": "1.5.0",
          "state": {
            "_view_name": "StyleView",
            "_model_name": "DescriptionStyleModel",
            "description_width": "",
            "_view_module": "@jupyter-widgets/base",
            "_model_module_version": "1.5.0",
            "_view_count": null,
            "_view_module_version": "1.2.0",
            "_model_module": "@jupyter-widgets/controls"
          }
        },
        "8e1b53964df6466c85686292cd5a39d2": {
          "model_module": "@jupyter-widgets/base",
          "model_name": "LayoutModel",
          "model_module_version": "1.2.0",
          "state": {
            "_view_name": "LayoutView",
            "grid_template_rows": null,
            "right": null,
            "justify_content": null,
            "_view_module": "@jupyter-widgets/base",
            "overflow": null,
            "_model_module_version": "1.2.0",
            "_view_count": null,
            "flex_flow": null,
            "width": null,
            "min_width": null,
            "border": null,
            "align_items": null,
            "bottom": null,
            "_model_module": "@jupyter-widgets/base",
            "top": null,
            "grid_column": null,
            "overflow_y": null,
            "overflow_x": null,
            "grid_auto_flow": null,
            "grid_area": null,
            "grid_template_columns": null,
            "flex": null,
            "_model_name": "LayoutModel",
            "justify_items": null,
            "grid_row": null,
            "max_height": null,
            "align_content": null,
            "visibility": null,
            "align_self": null,
            "height": null,
            "min_height": null,
            "padding": null,
            "grid_auto_rows": null,
            "grid_gap": null,
            "max_width": null,
            "order": null,
            "_view_module_version": "1.2.0",
            "grid_template_areas": null,
            "object_position": null,
            "object_fit": null,
            "grid_auto_columns": null,
            "margin": null,
            "display": null,
            "left": null
          }
        },
        "013ee142e84d4b61ba8d0751aa9ed7ef": {
          "model_module": "@jupyter-widgets/controls",
          "model_name": "ProgressStyleModel",
          "model_module_version": "1.5.0",
          "state": {
            "_view_name": "StyleView",
            "_model_name": "ProgressStyleModel",
            "description_width": "",
            "_view_module": "@jupyter-widgets/base",
            "_model_module_version": "1.5.0",
            "_view_count": null,
            "_view_module_version": "1.2.0",
            "bar_color": null,
            "_model_module": "@jupyter-widgets/controls"
          }
        },
        "c90c3f91c84a43dbb916fd03510e0efe": {
          "model_module": "@jupyter-widgets/base",
          "model_name": "LayoutModel",
          "model_module_version": "1.2.0",
          "state": {
            "_view_name": "LayoutView",
            "grid_template_rows": null,
            "right": null,
            "justify_content": null,
            "_view_module": "@jupyter-widgets/base",
            "overflow": null,
            "_model_module_version": "1.2.0",
            "_view_count": null,
            "flex_flow": null,
            "width": null,
            "min_width": null,
            "border": null,
            "align_items": null,
            "bottom": null,
            "_model_module": "@jupyter-widgets/base",
            "top": null,
            "grid_column": null,
            "overflow_y": null,
            "overflow_x": null,
            "grid_auto_flow": null,
            "grid_area": null,
            "grid_template_columns": null,
            "flex": null,
            "_model_name": "LayoutModel",
            "justify_items": null,
            "grid_row": null,
            "max_height": null,
            "align_content": null,
            "visibility": null,
            "align_self": null,
            "height": null,
            "min_height": null,
            "padding": null,
            "grid_auto_rows": null,
            "grid_gap": null,
            "max_width": null,
            "order": null,
            "_view_module_version": "1.2.0",
            "grid_template_areas": null,
            "object_position": null,
            "object_fit": null,
            "grid_auto_columns": null,
            "margin": null,
            "display": null,
            "left": null
          }
        },
        "0f5ed2a6ca7c463da469ab307ee8eed0": {
          "model_module": "@jupyter-widgets/controls",
          "model_name": "DescriptionStyleModel",
          "model_module_version": "1.5.0",
          "state": {
            "_view_name": "StyleView",
            "_model_name": "DescriptionStyleModel",
            "description_width": "",
            "_view_module": "@jupyter-widgets/base",
            "_model_module_version": "1.5.0",
            "_view_count": null,
            "_view_module_version": "1.2.0",
            "_model_module": "@jupyter-widgets/controls"
          }
        },
        "d865ae9d350245e6b744c8e1b95e78f2": {
          "model_module": "@jupyter-widgets/base",
          "model_name": "LayoutModel",
          "model_module_version": "1.2.0",
          "state": {
            "_view_name": "LayoutView",
            "grid_template_rows": null,
            "right": null,
            "justify_content": null,
            "_view_module": "@jupyter-widgets/base",
            "overflow": null,
            "_model_module_version": "1.2.0",
            "_view_count": null,
            "flex_flow": null,
            "width": null,
            "min_width": null,
            "border": null,
            "align_items": null,
            "bottom": null,
            "_model_module": "@jupyter-widgets/base",
            "top": null,
            "grid_column": null,
            "overflow_y": null,
            "overflow_x": null,
            "grid_auto_flow": null,
            "grid_area": null,
            "grid_template_columns": null,
            "flex": null,
            "_model_name": "LayoutModel",
            "justify_items": null,
            "grid_row": null,
            "max_height": null,
            "align_content": null,
            "visibility": null,
            "align_self": null,
            "height": null,
            "min_height": null,
            "padding": null,
            "grid_auto_rows": null,
            "grid_gap": null,
            "max_width": null,
            "order": null,
            "_view_module_version": "1.2.0",
            "grid_template_areas": null,
            "object_position": null,
            "object_fit": null,
            "grid_auto_columns": null,
            "margin": null,
            "display": null,
            "left": null
          }
        },
        "c627868e73cb47c69ab987d47bf465d8": {
          "model_module": "@jupyter-widgets/controls",
          "model_name": "HBoxModel",
          "model_module_version": "1.5.0",
          "state": {
            "_view_name": "HBoxView",
            "_dom_classes": [],
            "_model_name": "HBoxModel",
            "_view_module": "@jupyter-widgets/controls",
            "_model_module_version": "1.5.0",
            "_view_count": null,
            "_view_module_version": "1.5.0",
            "box_style": "",
            "layout": "IPY_MODEL_0927bbbc9deb46f8b777d48928224068",
            "_model_module": "@jupyter-widgets/controls",
            "children": [
              "IPY_MODEL_dd30565718494b3aa1b3946aab00258f",
              "IPY_MODEL_3a9663e1c0e04faabb330c402478537a",
              "IPY_MODEL_9844df97372349fcb301cfd9ff79973e"
            ]
          }
        },
        "0927bbbc9deb46f8b777d48928224068": {
          "model_module": "@jupyter-widgets/base",
          "model_name": "LayoutModel",
          "model_module_version": "1.2.0",
          "state": {
            "_view_name": "LayoutView",
            "grid_template_rows": null,
            "right": null,
            "justify_content": null,
            "_view_module": "@jupyter-widgets/base",
            "overflow": null,
            "_model_module_version": "1.2.0",
            "_view_count": null,
            "flex_flow": null,
            "width": null,
            "min_width": null,
            "border": null,
            "align_items": null,
            "bottom": null,
            "_model_module": "@jupyter-widgets/base",
            "top": null,
            "grid_column": null,
            "overflow_y": null,
            "overflow_x": null,
            "grid_auto_flow": null,
            "grid_area": null,
            "grid_template_columns": null,
            "flex": null,
            "_model_name": "LayoutModel",
            "justify_items": null,
            "grid_row": null,
            "max_height": null,
            "align_content": null,
            "visibility": null,
            "align_self": null,
            "height": null,
            "min_height": null,
            "padding": null,
            "grid_auto_rows": null,
            "grid_gap": null,
            "max_width": null,
            "order": null,
            "_view_module_version": "1.2.0",
            "grid_template_areas": null,
            "object_position": null,
            "object_fit": null,
            "grid_auto_columns": null,
            "margin": null,
            "display": null,
            "left": null
          }
        },
        "dd30565718494b3aa1b3946aab00258f": {
          "model_module": "@jupyter-widgets/controls",
          "model_name": "HTMLModel",
          "model_module_version": "1.5.0",
          "state": {
            "_view_name": "HTMLView",
            "style": "IPY_MODEL_a97c159edc9740bca14cc9970a2d4e6d",
            "_dom_classes": [],
            "description": "",
            "_model_name": "HTMLModel",
            "placeholder": "​",
            "_view_module": "@jupyter-widgets/controls",
            "_model_module_version": "1.5.0",
            "value": "100%",
            "_view_count": null,
            "_view_module_version": "1.5.0",
            "description_tooltip": null,
            "_model_module": "@jupyter-widgets/controls",
            "layout": "IPY_MODEL_d9f6b4919fd74c58aa76046448ceb83a"
          }
        },
        "3a9663e1c0e04faabb330c402478537a": {
          "model_module": "@jupyter-widgets/controls",
          "model_name": "FloatProgressModel",
          "model_module_version": "1.5.0",
          "state": {
            "_view_name": "ProgressView",
            "style": "IPY_MODEL_f1fcff48b0fb4688acead70251f3b467",
            "_dom_classes": [],
            "description": "",
            "_model_name": "FloatProgressModel",
            "bar_style": "success",
            "max": 235314250,
            "_view_module": "@jupyter-widgets/controls",
            "_model_module_version": "1.5.0",
            "value": 235314250,
            "_view_count": null,
            "_view_module_version": "1.5.0",
            "orientation": "horizontal",
            "min": 0,
            "description_tooltip": null,
            "_model_module": "@jupyter-widgets/controls",
            "layout": "IPY_MODEL_cc5709a589f74000aa70396164487cc8"
          }
        },
        "9844df97372349fcb301cfd9ff79973e": {
          "model_module": "@jupyter-widgets/controls",
          "model_name": "HTMLModel",
          "model_module_version": "1.5.0",
          "state": {
            "_view_name": "HTMLView",
            "style": "IPY_MODEL_f0d34607e5394a0ca50877a907b9886e",
            "_dom_classes": [],
            "description": "",
            "_model_name": "HTMLModel",
            "placeholder": "​",
            "_view_module": "@jupyter-widgets/controls",
            "_model_module_version": "1.5.0",
            "value": " 224M/224M [00:01&lt;00:00, 149MB/s]",
            "_view_count": null,
            "_view_module_version": "1.5.0",
            "description_tooltip": null,
            "_model_module": "@jupyter-widgets/controls",
            "layout": "IPY_MODEL_c6ead01ce689427b9cdda8611f60ca39"
          }
        },
        "a97c159edc9740bca14cc9970a2d4e6d": {
          "model_module": "@jupyter-widgets/controls",
          "model_name": "DescriptionStyleModel",
          "model_module_version": "1.5.0",
          "state": {
            "_view_name": "StyleView",
            "_model_name": "DescriptionStyleModel",
            "description_width": "",
            "_view_module": "@jupyter-widgets/base",
            "_model_module_version": "1.5.0",
            "_view_count": null,
            "_view_module_version": "1.2.0",
            "_model_module": "@jupyter-widgets/controls"
          }
        },
        "d9f6b4919fd74c58aa76046448ceb83a": {
          "model_module": "@jupyter-widgets/base",
          "model_name": "LayoutModel",
          "model_module_version": "1.2.0",
          "state": {
            "_view_name": "LayoutView",
            "grid_template_rows": null,
            "right": null,
            "justify_content": null,
            "_view_module": "@jupyter-widgets/base",
            "overflow": null,
            "_model_module_version": "1.2.0",
            "_view_count": null,
            "flex_flow": null,
            "width": null,
            "min_width": null,
            "border": null,
            "align_items": null,
            "bottom": null,
            "_model_module": "@jupyter-widgets/base",
            "top": null,
            "grid_column": null,
            "overflow_y": null,
            "overflow_x": null,
            "grid_auto_flow": null,
            "grid_area": null,
            "grid_template_columns": null,
            "flex": null,
            "_model_name": "LayoutModel",
            "justify_items": null,
            "grid_row": null,
            "max_height": null,
            "align_content": null,
            "visibility": null,
            "align_self": null,
            "height": null,
            "min_height": null,
            "padding": null,
            "grid_auto_rows": null,
            "grid_gap": null,
            "max_width": null,
            "order": null,
            "_view_module_version": "1.2.0",
            "grid_template_areas": null,
            "object_position": null,
            "object_fit": null,
            "grid_auto_columns": null,
            "margin": null,
            "display": null,
            "left": null
          }
        },
        "f1fcff48b0fb4688acead70251f3b467": {
          "model_module": "@jupyter-widgets/controls",
          "model_name": "ProgressStyleModel",
          "model_module_version": "1.5.0",
          "state": {
            "_view_name": "StyleView",
            "_model_name": "ProgressStyleModel",
            "description_width": "",
            "_view_module": "@jupyter-widgets/base",
            "_model_module_version": "1.5.0",
            "_view_count": null,
            "_view_module_version": "1.2.0",
            "bar_color": null,
            "_model_module": "@jupyter-widgets/controls"
          }
        },
        "cc5709a589f74000aa70396164487cc8": {
          "model_module": "@jupyter-widgets/base",
          "model_name": "LayoutModel",
          "model_module_version": "1.2.0",
          "state": {
            "_view_name": "LayoutView",
            "grid_template_rows": null,
            "right": null,
            "justify_content": null,
            "_view_module": "@jupyter-widgets/base",
            "overflow": null,
            "_model_module_version": "1.2.0",
            "_view_count": null,
            "flex_flow": null,
            "width": null,
            "min_width": null,
            "border": null,
            "align_items": null,
            "bottom": null,
            "_model_module": "@jupyter-widgets/base",
            "top": null,
            "grid_column": null,
            "overflow_y": null,
            "overflow_x": null,
            "grid_auto_flow": null,
            "grid_area": null,
            "grid_template_columns": null,
            "flex": null,
            "_model_name": "LayoutModel",
            "justify_items": null,
            "grid_row": null,
            "max_height": null,
            "align_content": null,
            "visibility": null,
            "align_self": null,
            "height": null,
            "min_height": null,
            "padding": null,
            "grid_auto_rows": null,
            "grid_gap": null,
            "max_width": null,
            "order": null,
            "_view_module_version": "1.2.0",
            "grid_template_areas": null,
            "object_position": null,
            "object_fit": null,
            "grid_auto_columns": null,
            "margin": null,
            "display": null,
            "left": null
          }
        },
        "f0d34607e5394a0ca50877a907b9886e": {
          "model_module": "@jupyter-widgets/controls",
          "model_name": "DescriptionStyleModel",
          "model_module_version": "1.5.0",
          "state": {
            "_view_name": "StyleView",
            "_model_name": "DescriptionStyleModel",
            "description_width": "",
            "_view_module": "@jupyter-widgets/base",
            "_model_module_version": "1.5.0",
            "_view_count": null,
            "_view_module_version": "1.2.0",
            "_model_module": "@jupyter-widgets/controls"
          }
        },
        "c6ead01ce689427b9cdda8611f60ca39": {
          "model_module": "@jupyter-widgets/base",
          "model_name": "LayoutModel",
          "model_module_version": "1.2.0",
          "state": {
            "_view_name": "LayoutView",
            "grid_template_rows": null,
            "right": null,
            "justify_content": null,
            "_view_module": "@jupyter-widgets/base",
            "overflow": null,
            "_model_module_version": "1.2.0",
            "_view_count": null,
            "flex_flow": null,
            "width": null,
            "min_width": null,
            "border": null,
            "align_items": null,
            "bottom": null,
            "_model_module": "@jupyter-widgets/base",
            "top": null,
            "grid_column": null,
            "overflow_y": null,
            "overflow_x": null,
            "grid_auto_flow": null,
            "grid_area": null,
            "grid_template_columns": null,
            "flex": null,
            "_model_name": "LayoutModel",
            "justify_items": null,
            "grid_row": null,
            "max_height": null,
            "align_content": null,
            "visibility": null,
            "align_self": null,
            "height": null,
            "min_height": null,
            "padding": null,
            "grid_auto_rows": null,
            "grid_gap": null,
            "max_width": null,
            "order": null,
            "_view_module_version": "1.2.0",
            "grid_template_areas": null,
            "object_position": null,
            "object_fit": null,
            "grid_auto_columns": null,
            "margin": null,
            "display": null,
            "left": null
          }
        }
      }
    }
  },
  "cells": [
    {
      "cell_type": "markdown",
      "metadata": {
        "id": "view-in-github",
        "colab_type": "text"
      },
      "source": [
        "<a href=\"https://colab.research.google.com/github/BrutalCaeser/DeepFake-Video-Generator/blob/main/DeepFake_Video_Generator_.ipynb\" target=\"_parent\"><img src=\"https://colab.research.google.com/assets/colab-badge.svg\" alt=\"Open In Colab\"/></a>"
      ]
    },
    {
      "cell_type": "markdown",
      "metadata": {
        "id": "GXaL7nU6TEsV"
      },
      "source": [
        "# MakeItTalk Quick Demo (natural human face animation)\n",
        "\n",
        "- included project setup + pretrained model download\n",
        "- provides step-by-step details\n",
        "- todo: tdlr version"
      ]
    },
    {
      "cell_type": "markdown",
      "metadata": {
        "id": "2owgbZ22TQmz"
      },
      "source": [
        "## Preparations\n",
        "- Check GPU"
      ]
    },
    {
      "cell_type": "code",
      "metadata": {
        "id": "yB-ixde4R3nO",
        "outputId": "d0f3666b-a531-41ea-c60d-d4e13682bf07",
        "colab": {
          "base_uri": "https://localhost:8080/"
        }
      },
      "source": [
        "!ln -sf /opt/bin/nvidia-smi /usr/bin/nvidia-smi\n",
        "import subprocess\n",
        "print(subprocess.getoutput('nvidia-smi'))"
      ],
      "execution_count": 1,
      "outputs": [
        {
          "output_type": "stream",
          "name": "stdout",
          "text": [
            "Sun Jan  9 14:53:27 2022       \n",
            "+-----------------------------------------------------------------------------+\n",
            "| NVIDIA-SMI 460.32.03    Driver Version: 460.32.03    CUDA Version: 11.2     |\n",
            "|-------------------------------+----------------------+----------------------+\n",
            "| GPU  Name        Persistence-M| Bus-Id        Disp.A | Volatile Uncorr. ECC |\n",
            "| Fan  Temp  Perf  Pwr:Usage/Cap|         Memory-Usage | GPU-Util  Compute M. |\n",
            "|                               |                      |               MIG M. |\n",
            "|===============================+======================+======================|\n",
            "|   0  Tesla K80           Off  | 00000000:00:04.0 Off |                    0 |\n",
            "| N/A   74C    P8    34W / 149W |      0MiB / 11441MiB |      0%      Default |\n",
            "|                               |                      |                  N/A |\n",
            "+-------------------------------+----------------------+----------------------+\n",
            "                                                                               \n",
            "+-----------------------------------------------------------------------------+\n",
            "| Processes:                                                                  |\n",
            "|  GPU   GI   CI        PID   Type   Process name                  GPU Memory |\n",
            "|        ID   ID                                                   Usage      |\n",
            "|=============================================================================|\n",
            "|  No running processes found                                                 |\n",
            "+-----------------------------------------------------------------------------+\n"
          ]
        }
      ]
    },
    {
      "cell_type": "markdown",
      "metadata": {
        "id": "o31a6SpeTXDM"
      },
      "source": [
        "- Check ffmpeg"
      ]
    },
    {
      "cell_type": "code",
      "metadata": {
        "id": "u4EcdzstSB71",
        "outputId": "3dcd8b7f-fdd3-4e66-dc27-4955bdbd2bc0",
        "colab": {
          "base_uri": "https://localhost:8080/"
        }
      },
      "source": [
        "print(subprocess.getoutput('ffmpeg'))"
      ],
      "execution_count": 2,
      "outputs": [
        {
          "output_type": "stream",
          "name": "stdout",
          "text": [
            "ffmpeg version 3.4.8-0ubuntu0.2 Copyright (c) 2000-2020 the FFmpeg developers\n",
            "  built with gcc 7 (Ubuntu 7.5.0-3ubuntu1~18.04)\n",
            "  configuration: --prefix=/usr --extra-version=0ubuntu0.2 --toolchain=hardened --libdir=/usr/lib/x86_64-linux-gnu --incdir=/usr/include/x86_64-linux-gnu --enable-gpl --disable-stripping --enable-avresample --enable-avisynth --enable-gnutls --enable-ladspa --enable-libass --enable-libbluray --enable-libbs2b --enable-libcaca --enable-libcdio --enable-libflite --enable-libfontconfig --enable-libfreetype --enable-libfribidi --enable-libgme --enable-libgsm --enable-libmp3lame --enable-libmysofa --enable-libopenjpeg --enable-libopenmpt --enable-libopus --enable-libpulse --enable-librubberband --enable-librsvg --enable-libshine --enable-libsnappy --enable-libsoxr --enable-libspeex --enable-libssh --enable-libtheora --enable-libtwolame --enable-libvorbis --enable-libvpx --enable-libwavpack --enable-libwebp --enable-libx265 --enable-libxml2 --enable-libxvid --enable-libzmq --enable-libzvbi --enable-omx --enable-openal --enable-opengl --enable-sdl2 --enable-libdc1394 --enable-libdrm --enable-libiec61883 --enable-chromaprint --enable-frei0r --enable-libopencv --enable-libx264 --enable-shared\n",
            "  libavutil      55. 78.100 / 55. 78.100\n",
            "  libavcodec     57.107.100 / 57.107.100\n",
            "  libavformat    57. 83.100 / 57. 83.100\n",
            "  libavdevice    57. 10.100 / 57. 10.100\n",
            "  libavfilter     6.107.100 /  6.107.100\n",
            "  libavresample   3.  7.  0 /  3.  7.  0\n",
            "  libswscale      4.  8.100 /  4.  8.100\n",
            "  libswresample   2.  9.100 /  2.  9.100\n",
            "  libpostproc    54.  7.100 / 54.  7.100\n",
            "Hyper fast Audio and Video encoder\n",
            "usage: ffmpeg [options] [[infile options] -i infile]... {[outfile options] outfile}...\n",
            "\n",
            "Use -h to get full help or, even better, run 'man ffmpeg'\n"
          ]
        }
      ]
    },
    {
      "cell_type": "markdown",
      "metadata": {
        "id": "taPSDYiSTcM_"
      },
      "source": [
        "- Install Github https://github.com/yzhou359/MakeItTalk"
      ]
    },
    {
      "cell_type": "code",
      "metadata": {
        "id": "4G0XLqo4SofV",
        "outputId": "01a59047-fdcb-4a02-aa06-8bb3b4e099f0",
        "colab": {
          "base_uri": "https://localhost:8080/"
        }
      },
      "source": [
        "!git clone https://github.com/yzhou359/MakeItTalk"
      ],
      "execution_count": 4,
      "outputs": [
        {
          "output_type": "stream",
          "name": "stdout",
          "text": [
            "Cloning into 'MakeItTalk'...\n",
            "remote: Enumerating objects: 650, done.\u001b[K\n",
            "remote: Counting objects: 100% (202/202), done.\u001b[K\n",
            "remote: Compressing objects: 100% (142/142), done.\u001b[K\n",
            "remote: Total 650 (delta 60), reused 195 (delta 58), pack-reused 448\u001b[K\n",
            "Receiving objects: 100% (650/650), 26.22 MiB | 7.05 MiB/s, done.\n",
            "Resolving deltas: 100% (162/162), done.\n"
          ]
        }
      ]
    },
    {
      "cell_type": "markdown",
      "metadata": {
        "id": "-xe5u4Ede-G5"
      },
      "source": [
        "- Install requirements"
      ]
    },
    {
      "cell_type": "code",
      "metadata": {
        "id": "sR4ExzplfBHk",
        "outputId": "16292486-2d73-41bd-f530-fb168dda36d4",
        "colab": {
          "base_uri": "https://localhost:8080/",
          "height": 1000
        }
      },
      "source": [
        "%cd MakeItTalk/\n",
        "!export PYTHONPATH=/content/MakeItTalk:$PYTHONPATH\n",
        "!pip install -r requirements.txt\n",
        "!pip install tensorboardX"
      ],
      "execution_count": 5,
      "outputs": [
        {
          "output_type": "stream",
          "name": "stdout",
          "text": [
            "/content/MakeItTalk\n",
            "Collecting ffmpeg-python\n",
            "  Downloading ffmpeg_python-0.2.0-py3-none-any.whl (25 kB)\n",
            "Requirement already satisfied: opencv-python in /usr/local/lib/python3.7/dist-packages (from -r requirements.txt (line 2)) (4.1.2.30)\n",
            "Collecting face_alignment\n",
            "  Downloading face_alignment-1.3.5.tar.gz (27 kB)\n",
            "Requirement already satisfied: scikit-learn in /usr/local/lib/python3.7/dist-packages (from -r requirements.txt (line 4)) (1.0.1)\n",
            "Collecting pydub\n",
            "  Downloading pydub-0.25.1-py2.py3-none-any.whl (32 kB)\n",
            "Collecting pynormalize\n",
            "  Downloading pynormalize-0.1.4-py2.py3-none-any.whl (6.5 kB)\n",
            "Requirement already satisfied: soundfile in /usr/local/lib/python3.7/dist-packages (from -r requirements.txt (line 7)) (0.10.3.post1)\n",
            "Requirement already satisfied: librosa in /usr/local/lib/python3.7/dist-packages (from -r requirements.txt (line 8)) (0.8.1)\n",
            "Collecting pysptk\n",
            "  Downloading pysptk-0.1.20.tar.gz (410 kB)\n",
            "\u001b[K     |████████████████████████████████| 410 kB 21.0 MB/s \n",
            "\u001b[?25h  Installing build dependencies ... \u001b[?25l\u001b[?25hdone\n",
            "  Getting requirements to build wheel ... \u001b[?25l\u001b[?25hdone\n",
            "    Preparing wheel metadata ... \u001b[?25l\u001b[?25hdone\n",
            "Collecting pyworld\n",
            "  Downloading pyworld-0.3.0.tar.gz (212 kB)\n",
            "\u001b[K     |████████████████████████████████| 212 kB 45.7 MB/s \n",
            "\u001b[?25h  Installing build dependencies ... \u001b[?25l\u001b[?25hdone\n",
            "  Getting requirements to build wheel ... \u001b[?25l\u001b[?25hdone\n",
            "    Preparing wheel metadata ... \u001b[?25l\u001b[?25hdone\n",
            "Collecting resemblyzer\n",
            "  Downloading Resemblyzer-0.1.1.dev0-py3-none-any.whl (15.7 MB)\n",
            "\u001b[K     |████████████████████████████████| 15.7 MB 23.0 MB/s \n",
            "\u001b[?25hRequirement already satisfied: future in /usr/local/lib/python3.7/dist-packages (from ffmpeg-python->-r requirements.txt (line 1)) (0.16.0)\n",
            "Requirement already satisfied: numpy>=1.14.5 in /usr/local/lib/python3.7/dist-packages (from opencv-python->-r requirements.txt (line 2)) (1.19.5)\n",
            "Requirement already satisfied: torch in /usr/local/lib/python3.7/dist-packages (from face_alignment->-r requirements.txt (line 3)) (1.10.0+cu111)\n",
            "Requirement already satisfied: scipy>=0.17 in /usr/local/lib/python3.7/dist-packages (from face_alignment->-r requirements.txt (line 3)) (1.4.1)\n",
            "Requirement already satisfied: scikit-image in /usr/local/lib/python3.7/dist-packages (from face_alignment->-r requirements.txt (line 3)) (0.18.3)\n",
            "Requirement already satisfied: tqdm in /usr/local/lib/python3.7/dist-packages (from face_alignment->-r requirements.txt (line 3)) (4.62.3)\n",
            "Requirement already satisfied: numba in /usr/local/lib/python3.7/dist-packages (from face_alignment->-r requirements.txt (line 3)) (0.51.2)\n",
            "Requirement already satisfied: joblib>=0.11 in /usr/local/lib/python3.7/dist-packages (from scikit-learn->-r requirements.txt (line 4)) (1.1.0)\n",
            "Requirement already satisfied: threadpoolctl>=2.0.0 in /usr/local/lib/python3.7/dist-packages (from scikit-learn->-r requirements.txt (line 4)) (3.0.0)\n",
            "Collecting mutagen>=1.40.0\n",
            "  Downloading mutagen-1.45.1-py3-none-any.whl (218 kB)\n",
            "\u001b[K     |████████████████████████████████| 218 kB 49.4 MB/s \n",
            "\u001b[?25hRequirement already satisfied: cffi>=1.0 in /usr/local/lib/python3.7/dist-packages (from soundfile->-r requirements.txt (line 7)) (1.15.0)\n",
            "Requirement already satisfied: pycparser in /usr/local/lib/python3.7/dist-packages (from cffi>=1.0->soundfile->-r requirements.txt (line 7)) (2.21)\n",
            "Requirement already satisfied: resampy>=0.2.2 in /usr/local/lib/python3.7/dist-packages (from librosa->-r requirements.txt (line 8)) (0.2.2)\n",
            "Requirement already satisfied: pooch>=1.0 in /usr/local/lib/python3.7/dist-packages (from librosa->-r requirements.txt (line 8)) (1.5.2)\n",
            "Requirement already satisfied: packaging>=20.0 in /usr/local/lib/python3.7/dist-packages (from librosa->-r requirements.txt (line 8)) (21.3)\n",
            "Requirement already satisfied: audioread>=2.0.0 in /usr/local/lib/python3.7/dist-packages (from librosa->-r requirements.txt (line 8)) (2.1.9)\n",
            "Requirement already satisfied: decorator>=3.0.0 in /usr/local/lib/python3.7/dist-packages (from librosa->-r requirements.txt (line 8)) (4.4.2)\n",
            "Requirement already satisfied: setuptools in /usr/local/lib/python3.7/dist-packages (from numba->face_alignment->-r requirements.txt (line 3)) (57.4.0)\n",
            "Requirement already satisfied: llvmlite<0.35,>=0.34.0.dev0 in /usr/local/lib/python3.7/dist-packages (from numba->face_alignment->-r requirements.txt (line 3)) (0.34.0)\n",
            "Requirement already satisfied: pyparsing!=3.0.5,>=2.0.2 in /usr/local/lib/python3.7/dist-packages (from packaging>=20.0->librosa->-r requirements.txt (line 8)) (3.0.6)\n",
            "Requirement already satisfied: requests in /usr/local/lib/python3.7/dist-packages (from pooch>=1.0->librosa->-r requirements.txt (line 8)) (2.23.0)\n",
            "Requirement already satisfied: appdirs in /usr/local/lib/python3.7/dist-packages (from pooch>=1.0->librosa->-r requirements.txt (line 8)) (1.4.4)\n",
            "Requirement already satisfied: six>=1.3 in /usr/local/lib/python3.7/dist-packages (from resampy>=0.2.2->librosa->-r requirements.txt (line 8)) (1.15.0)\n",
            "Requirement already satisfied: cython>=0.28.0 in /usr/local/lib/python3.7/dist-packages (from pysptk->-r requirements.txt (line 9)) (0.29.24)\n",
            "Collecting webrtcvad>=2.0.10\n",
            "  Downloading webrtcvad-2.0.10.tar.gz (66 kB)\n",
            "\u001b[K     |████████████████████████████████| 66 kB 4.4 MB/s \n",
            "\u001b[?25hCollecting typing\n",
            "  Downloading typing-3.7.4.3.tar.gz (78 kB)\n",
            "\u001b[K     |████████████████████████████████| 78 kB 7.9 MB/s \n",
            "\u001b[?25hRequirement already satisfied: typing-extensions in /usr/local/lib/python3.7/dist-packages (from torch->face_alignment->-r requirements.txt (line 3)) (3.10.0.2)\n",
            "Requirement already satisfied: urllib3!=1.25.0,!=1.25.1,<1.26,>=1.21.1 in /usr/local/lib/python3.7/dist-packages (from requests->pooch>=1.0->librosa->-r requirements.txt (line 8)) (1.24.3)\n",
            "Requirement already satisfied: chardet<4,>=3.0.2 in /usr/local/lib/python3.7/dist-packages (from requests->pooch>=1.0->librosa->-r requirements.txt (line 8)) (3.0.4)\n",
            "Requirement already satisfied: certifi>=2017.4.17 in /usr/local/lib/python3.7/dist-packages (from requests->pooch>=1.0->librosa->-r requirements.txt (line 8)) (2021.10.8)\n",
            "Requirement already satisfied: idna<3,>=2.5 in /usr/local/lib/python3.7/dist-packages (from requests->pooch>=1.0->librosa->-r requirements.txt (line 8)) (2.10)\n",
            "Requirement already satisfied: PyWavelets>=1.1.1 in /usr/local/lib/python3.7/dist-packages (from scikit-image->face_alignment->-r requirements.txt (line 3)) (1.2.0)\n",
            "Requirement already satisfied: matplotlib!=3.0.0,>=2.0.0 in /usr/local/lib/python3.7/dist-packages (from scikit-image->face_alignment->-r requirements.txt (line 3)) (3.2.2)\n",
            "Requirement already satisfied: pillow!=7.1.0,!=7.1.1,>=4.3.0 in /usr/local/lib/python3.7/dist-packages (from scikit-image->face_alignment->-r requirements.txt (line 3)) (7.1.2)\n",
            "Requirement already satisfied: tifffile>=2019.7.26 in /usr/local/lib/python3.7/dist-packages (from scikit-image->face_alignment->-r requirements.txt (line 3)) (2021.11.2)\n",
            "Requirement already satisfied: networkx>=2.0 in /usr/local/lib/python3.7/dist-packages (from scikit-image->face_alignment->-r requirements.txt (line 3)) (2.6.3)\n",
            "Requirement already satisfied: imageio>=2.3.0 in /usr/local/lib/python3.7/dist-packages (from scikit-image->face_alignment->-r requirements.txt (line 3)) (2.4.1)\n",
            "Requirement already satisfied: python-dateutil>=2.1 in /usr/local/lib/python3.7/dist-packages (from matplotlib!=3.0.0,>=2.0.0->scikit-image->face_alignment->-r requirements.txt (line 3)) (2.8.2)\n",
            "Requirement already satisfied: kiwisolver>=1.0.1 in /usr/local/lib/python3.7/dist-packages (from matplotlib!=3.0.0,>=2.0.0->scikit-image->face_alignment->-r requirements.txt (line 3)) (1.3.2)\n",
            "Requirement already satisfied: cycler>=0.10 in /usr/local/lib/python3.7/dist-packages (from matplotlib!=3.0.0,>=2.0.0->scikit-image->face_alignment->-r requirements.txt (line 3)) (0.11.0)\n",
            "Building wheels for collected packages: face-alignment, pysptk, pyworld, webrtcvad, typing\n",
            "  Building wheel for face-alignment (setup.py) ... \u001b[?25l\u001b[?25hdone\n",
            "  Created wheel for face-alignment: filename=face_alignment-1.3.5-py2.py3-none-any.whl size=28239 sha256=36ba3d1e36fd0f444599a580ff63d800a35dec1a03d36abdb7637cf1570400f4\n",
            "  Stored in directory: /root/.cache/pip/wheels/c9/ba/4d/2d368f55e5f929f9472da59e356fbdf1483f885de80a5bc620\n",
            "  Building wheel for pysptk (PEP 517) ... \u001b[?25l\u001b[?25hdone\n",
            "  Created wheel for pysptk: filename=pysptk-0.1.20-cp37-cp37m-linux_x86_64.whl size=929935 sha256=aa6ea4c78c21659996bc1600938774dde6e79f9ba0600ce2a6075c3ea7cd3992\n",
            "  Stored in directory: /root/.cache/pip/wheels/dd/37/3f/7583b00bf73e73650aad5d268ee46b95dbd6dffbd237e1bf58\n",
            "  Building wheel for pyworld (PEP 517) ... \u001b[?25l\u001b[?25hdone\n",
            "  Created wheel for pyworld: filename=pyworld-0.3.0-cp37-cp37m-linux_x86_64.whl size=609476 sha256=a45000a195537bce319ef975fb1332b098491ca7818c5130f1ff2a2e0e0de74d\n",
            "  Stored in directory: /root/.cache/pip/wheels/e7/7c/11/c775fffa0e1e7b05a6604b4323408a77f80fb4ab304d96b5c6\n",
            "  Building wheel for webrtcvad (setup.py) ... \u001b[?25l\u001b[?25hdone\n",
            "  Created wheel for webrtcvad: filename=webrtcvad-2.0.10-cp37-cp37m-linux_x86_64.whl size=72394 sha256=969d4d79d14b379ff19d81c1ddaf64451128fa3785708817b50943fc543f56c0\n",
            "  Stored in directory: /root/.cache/pip/wheels/11/f9/67/a3158d131f57e1c0a7d8d966a707d4a2fb27567a4fe47723ad\n",
            "  Building wheel for typing (setup.py) ... \u001b[?25l\u001b[?25hdone\n",
            "  Created wheel for typing: filename=typing-3.7.4.3-py3-none-any.whl size=26324 sha256=f338cfe67e8f461a1cad58d62e7d38bb5d34abdf4121306f031220180faef490\n",
            "  Stored in directory: /root/.cache/pip/wheels/35/f3/15/01aa6571f0a72ee6ae7b827c1491c37a1f72d686fd22b43b0e\n",
            "Successfully built face-alignment pysptk pyworld webrtcvad typing\n",
            "Installing collected packages: webrtcvad, typing, pydub, mutagen, resemblyzer, pyworld, pysptk, pynormalize, ffmpeg-python, face-alignment\n",
            "Successfully installed face-alignment-1.3.5 ffmpeg-python-0.2.0 mutagen-1.45.1 pydub-0.25.1 pynormalize-0.1.4 pysptk-0.1.20 pyworld-0.3.0 resemblyzer-0.1.1.dev0 typing-3.7.4.3 webrtcvad-2.0.10\n"
          ]
        },
        {
          "output_type": "display_data",
          "data": {
            "application/vnd.colab-display-data+json": {
              "pip_warning": {
                "packages": [
                  "typing"
                ]
              }
            }
          },
          "metadata": {}
        },
        {
          "output_type": "stream",
          "name": "stdout",
          "text": [
            "Collecting tensorboardX\n",
            "  Downloading tensorboardX-2.4.1-py2.py3-none-any.whl (124 kB)\n",
            "\u001b[?25l\r\u001b[K     |██▋                             | 10 kB 31.4 MB/s eta 0:00:01\r\u001b[K     |█████▎                          | 20 kB 31.7 MB/s eta 0:00:01\r\u001b[K     |███████▉                        | 30 kB 20.7 MB/s eta 0:00:01\r\u001b[K     |██████████▌                     | 40 kB 16.2 MB/s eta 0:00:01\r\u001b[K     |█████████████▏                  | 51 kB 13.6 MB/s eta 0:00:01\r\u001b[K     |███████████████▊                | 61 kB 13.1 MB/s eta 0:00:01\r\u001b[K     |██████████████████▍             | 71 kB 12.2 MB/s eta 0:00:01\r\u001b[K     |█████████████████████           | 81 kB 13.2 MB/s eta 0:00:01\r\u001b[K     |███████████████████████▋        | 92 kB 13.6 MB/s eta 0:00:01\r\u001b[K     |██████████████████████████▎     | 102 kB 12.0 MB/s eta 0:00:01\r\u001b[K     |█████████████████████████████   | 112 kB 12.0 MB/s eta 0:00:01\r\u001b[K     |███████████████████████████████▌| 122 kB 12.0 MB/s eta 0:00:01\r\u001b[K     |████████████████████████████████| 124 kB 12.0 MB/s \n",
            "\u001b[?25hRequirement already satisfied: protobuf>=3.8.0 in /usr/local/lib/python3.7/dist-packages (from tensorboardX) (3.17.3)\n",
            "Requirement already satisfied: numpy in /usr/local/lib/python3.7/dist-packages (from tensorboardX) (1.19.5)\n",
            "Requirement already satisfied: six>=1.9 in /usr/local/lib/python3.7/dist-packages (from protobuf>=3.8.0->tensorboardX) (1.15.0)\n",
            "Installing collected packages: tensorboardX\n",
            "Successfully installed tensorboardX-2.4.1\n"
          ]
        }
      ]
    },
    {
      "cell_type": "markdown",
      "metadata": {
        "id": "AByGGO5fd14P"
      },
      "source": [
        "- Download pretrained models"
      ]
    },
    {
      "cell_type": "code",
      "metadata": {
        "id": "SU4abC3iTmXA",
        "outputId": "813374e8-f168-44aa-c550-0ef38481fe67",
        "colab": {
          "base_uri": "https://localhost:8080/"
        }
      },
      "source": [
        "!mkdir examples/dump\n",
        "!mkdir examples/ckpt\n",
        "!pip install gdown\n",
        "!gdown -O examples/ckpt/ckpt_autovc.pth https://drive.google.com/uc?id=1ZiwPp_h62LtjU0DwpelLUoodKPR85K7x\n",
        "!gdown -O examples/ckpt/ckpt_content_branch.pth https://drive.google.com/uc?id=1r3bfEvTVl6pCNw5xwUhEglwDHjWtAqQp\n",
        "!gdown -O examples/ckpt/ckpt_speaker_branch.pth https://drive.google.com/uc?id=1rV0jkyDqPW-aDJcj7xSO6Zt1zSXqn1mu\n",
        "!gdown -O examples/ckpt/ckpt_116_i2i_comb.pth https://drive.google.com/uc?id=1i2LJXKp-yWKIEEgJ7C6cE3_2NirfY_0a\n",
        "!gdown -O examples/dump/emb.pickle https://drive.google.com/uc?id=18-0CYl5E6ungS3H4rRSHjfYvvm-WwjTI"
      ],
      "execution_count": 6,
      "outputs": [
        {
          "output_type": "stream",
          "name": "stdout",
          "text": [
            "Requirement already satisfied: gdown in /usr/local/lib/python3.7/dist-packages (3.6.4)\n",
            "Requirement already satisfied: requests in /usr/local/lib/python3.7/dist-packages (from gdown) (2.23.0)\n",
            "Requirement already satisfied: six in /usr/local/lib/python3.7/dist-packages (from gdown) (1.15.0)\n",
            "Requirement already satisfied: tqdm in /usr/local/lib/python3.7/dist-packages (from gdown) (4.62.3)\n",
            "Requirement already satisfied: chardet<4,>=3.0.2 in /usr/local/lib/python3.7/dist-packages (from requests->gdown) (3.0.4)\n",
            "Requirement already satisfied: urllib3!=1.25.0,!=1.25.1,<1.26,>=1.21.1 in /usr/local/lib/python3.7/dist-packages (from requests->gdown) (1.24.3)\n",
            "Requirement already satisfied: idna<3,>=2.5 in /usr/local/lib/python3.7/dist-packages (from requests->gdown) (2.10)\n",
            "Requirement already satisfied: certifi>=2017.4.17 in /usr/local/lib/python3.7/dist-packages (from requests->gdown) (2021.10.8)\n",
            "Downloading...\n",
            "From: https://drive.google.com/uc?id=1ZiwPp_h62LtjU0DwpelLUoodKPR85K7x\n",
            "To: /content/MakeItTalk/examples/ckpt/ckpt_autovc.pth\n",
            "100% 172M/172M [00:01<00:00, 158MB/s]\n",
            "Downloading...\n",
            "From: https://drive.google.com/uc?id=1r3bfEvTVl6pCNw5xwUhEglwDHjWtAqQp\n",
            "To: /content/MakeItTalk/examples/ckpt/ckpt_content_branch.pth\n",
            "100% 7.88M/7.88M [00:00<00:00, 69.3MB/s]\n",
            "Downloading...\n",
            "From: https://drive.google.com/uc?id=1rV0jkyDqPW-aDJcj7xSO6Zt1zSXqn1mu\n",
            "To: /content/MakeItTalk/examples/ckpt/ckpt_speaker_branch.pth\n",
            "100% 15.4M/15.4M [00:00<00:00, 135MB/s]\n",
            "Downloading...\n",
            "From: https://drive.google.com/uc?id=1i2LJXKp-yWKIEEgJ7C6cE3_2NirfY_0a\n",
            "To: /content/MakeItTalk/examples/ckpt/ckpt_116_i2i_comb.pth\n",
            "100% 839M/839M [00:04<00:00, 173MB/s]\n",
            "Downloading...\n",
            "From: https://drive.google.com/uc?id=18-0CYl5E6ungS3H4rRSHjfYvvm-WwjTI\n",
            "To: /content/MakeItTalk/examples/dump/emb.pickle\n",
            "100% 30.9M/30.9M [00:00<00:00, 144MB/s]\n"
          ]
        }
      ]
    },
    {
      "cell_type": "markdown",
      "metadata": {
        "id": "37JeD3ZZdI-a"
      },
      "source": [
        "- prepare your images/audios (or you can use the existing ones)\n",
        "  - An image to animate: upload to `MakeItTalk/examples` folder, image size should be 256x256\n",
        "  - An audio (hopefully no noise) to talk: upload to `MakeItTalk/examples` folder as well\n",
        "\n",
        "## Step 0: import necessary packages"
      ]
    },
    {
      "cell_type": "code",
      "metadata": {
        "id": "olj6VcfiTrd_"
      },
      "source": [
        "import sys\n",
        "sys.path.append(\"thirdparty/AdaptiveWingLoss\")\n",
        "import os, glob\n",
        "import numpy as np\n",
        "import cv2\n",
        "import argparse\n",
        "from src.approaches.train_image_translation import Image_translation_block\n",
        "import torch\n",
        "import pickle\n",
        "import face_alignment\n",
        "from src.autovc.AutoVC_mel_Convertor_retrain_version import AutoVC_mel_Convertor\n",
        "import shutil\n",
        "import time\n",
        "import util.utils as util\n",
        "from scipy.signal import savgol_filter\n",
        "from src.approaches.train_audio2landmark import Audio2landmark_model"
      ],
      "execution_count": 7,
      "outputs": []
    },
    {
      "cell_type": "markdown",
      "source": [
        "### Add the image i.e 'Doctor3.JPG' and audio file 'Audio1.wav' in the examples folder inside the MakeItTalk repository."
      ],
      "metadata": {
        "id": "73_S2gHcUfDL"
      }
    },
    {
      "cell_type": "markdown",
      "metadata": {
        "id": "A8aaCE6vgmXy"
      },
      "source": [
        "## Step 1: Basic setup for the animation"
      ]
    },
    {
      "cell_type": "code",
      "metadata": {
        "id": "58s-c9H8dWPW"
      },
      "source": [
        "default_head_name = 'Doctor3'           # the image name (with no .jpg) to animate\n",
        "ADD_NAIVE_EYE = True                 # whether add naive eye blink\n",
        "CLOSE_INPUT_FACE_MOUTH = False       # if your image has an opened mouth, put this as True, else False\n",
        "AMP_LIP_SHAPE_X = 2.                 # amplify the lip motion in horizontal direction\n",
        "AMP_LIP_SHAPE_Y = 2.                 # amplify the lip motion in vertical direction\n",
        "AMP_HEAD_POSE_MOTION = 0.5           # amplify the head pose motion (usually smaller than 1.0, put it to 0. for a static head pose)"
      ],
      "execution_count": 8,
      "outputs": []
    },
    {
      "cell_type": "markdown",
      "metadata": {
        "id": "HRFBOqXMguSH"
      },
      "source": [
        "Default hyper-parameters for the model."
      ]
    },
    {
      "cell_type": "code",
      "metadata": {
        "id": "ZkZRYLSCf8TK"
      },
      "source": [
        "parser = argparse.ArgumentParser()\n",
        "parser.add_argument('--JPG', type=str, default='{}.JPG'.format(default_head_name))\n",
        "parser.add_argument('--close_input_face_mouth', default=CLOSE_INPUT_FACE_MOUTH, action='store_true')\n",
        "\n",
        "parser.add_argument('--load_AUTOVC_name', type=str, default='examples/ckpt/ckpt_autovc.pth')\n",
        "parser.add_argument('--load_a2l_G_name', type=str, default='examples/ckpt/ckpt_speaker_branch.pth')\n",
        "parser.add_argument('--load_a2l_C_name', type=str, default='examples/ckpt/ckpt_content_branch.pth') #ckpt_audio2landmark_c.pth')\n",
        "parser.add_argument('--load_G_name', type=str, default='examples/ckpt/ckpt_116_i2i_comb.pth') #ckpt_image2image.pth') #ckpt_i2i_finetune_150.pth') #c\n",
        "\n",
        "parser.add_argument('--amp_lip_x', type=float, default=AMP_LIP_SHAPE_X)\n",
        "parser.add_argument('--amp_lip_y', type=float, default=AMP_LIP_SHAPE_Y)\n",
        "parser.add_argument('--amp_pos', type=float, default=AMP_HEAD_POSE_MOTION)\n",
        "parser.add_argument('--reuse_train_emb_list', type=str, nargs='+', default=[]) #  ['iWeklsXc0H8']) #['45hn7-LXDX8']) #['E_kmpT-EfOg']) #'iWeklsXc0H8', '29k8RtSUjE0', '45hn7-LXDX8',\n",
        "parser.add_argument('--add_audio_in', default=False, action='store_true')\n",
        "parser.add_argument('--comb_fan_awing', default=False, action='store_true')\n",
        "parser.add_argument('--output_folder', type=str, default='examples')\n",
        "\n",
        "parser.add_argument('--test_end2end', default=True, action='store_true')\n",
        "parser.add_argument('--dump_dir', type=str, default='', help='')\n",
        "parser.add_argument('--pos_dim', default=7, type=int)\n",
        "parser.add_argument('--use_prior_net', default=True, action='store_true')\n",
        "parser.add_argument('--transformer_d_model', default=32, type=int)\n",
        "parser.add_argument('--transformer_N', default=2, type=int)\n",
        "parser.add_argument('--transformer_heads', default=2, type=int)\n",
        "parser.add_argument('--spk_emb_enc_size', default=16, type=int)\n",
        "parser.add_argument('--init_content_encoder', type=str, default='')\n",
        "parser.add_argument('--lr', type=float, default=1e-3, help='learning rate')\n",
        "parser.add_argument('--reg_lr', type=float, default=1e-6, help='weight decay')\n",
        "parser.add_argument('--write', default=False, action='store_true')\n",
        "parser.add_argument('--segment_batch_size', type=int, default=1, help='batch size')\n",
        "parser.add_argument('--emb_coef', default=3.0, type=float)\n",
        "parser.add_argument('--lambda_laplacian_smooth_loss', default=1.0, type=float)\n",
        "parser.add_argument('--use_11spk_only', default=False, action='store_true')\n",
        "parser.add_argument('-f')\n",
        "\n",
        "opt_parser = parser.parse_args()"
      ],
      "execution_count": 9,
      "outputs": []
    },
    {
      "cell_type": "markdown",
      "metadata": {
        "id": "qchIUwTTg3AB"
      },
      "source": [
        "## Step 2: load the image and detect its landmark"
      ]
    },
    {
      "cell_type": "code",
      "metadata": {
        "id": "SmYcSmrugxQK",
        "colab": {
          "base_uri": "https://localhost:8080/",
          "height": 185,
          "referenced_widgets": [
            "65fc08dcf48d48308e542142388a0e17",
            "401a1b4366ae4d1f99cfea97358a4e4b",
            "85d334e92c60492cb340add1bd244b2f",
            "6a3c4dc29f9a407ba2df20c512035bf8",
            "bb0ca5b778b4498b9d8db1d1485ec290",
            "e4c2b31ffe0a49b7acfdc6bfc186d0d0",
            "8ad42aa0c66b43a1aa01d4871f515012",
            "d796a91e45ea42fd96f5b7d0faf531fd",
            "c5449362c1654f80b4ba025bf38a28bf",
            "5607bc08d5574de3a1ec6ee898e28f88",
            "7dabe6be37774a3e8cf94afe5d70c985",
            "aa4a884ba1e24cc5abe9218177c0490c",
            "a2b3d8e6a4d2441dbd2331cdb1d91661",
            "0ed2f08b0aa94391986bf4714a8f03ef",
            "b741e67a002944f5882d087a40d942ff",
            "4efc9887c19f439b8cff068ae1799871",
            "507898bf0cd34e46a0678d87f2d9d611",
            "8e1b53964df6466c85686292cd5a39d2",
            "013ee142e84d4b61ba8d0751aa9ed7ef",
            "c90c3f91c84a43dbb916fd03510e0efe",
            "0f5ed2a6ca7c463da469ab307ee8eed0",
            "d865ae9d350245e6b744c8e1b95e78f2",
            "c627868e73cb47c69ab987d47bf465d8",
            "0927bbbc9deb46f8b777d48928224068",
            "dd30565718494b3aa1b3946aab00258f",
            "3a9663e1c0e04faabb330c402478537a",
            "9844df97372349fcb301cfd9ff79973e",
            "a97c159edc9740bca14cc9970a2d4e6d",
            "d9f6b4919fd74c58aa76046448ceb83a",
            "f1fcff48b0fb4688acead70251f3b467",
            "cc5709a589f74000aa70396164487cc8",
            "f0d34607e5394a0ca50877a907b9886e",
            "c6ead01ce689427b9cdda8611f60ca39"
          ]
        },
        "outputId": "04a8b680-2c9c-4882-9187-4173cf70f593"
      },
      "source": [
        "img =cv2.imread('examples/' + opt_parser.JPG)\n",
        "predictor = face_alignment.FaceAlignment(face_alignment.LandmarksType._3D, device='cpu', flip_input=True)\n",
        "shapes = predictor.get_landmarks(img)\n",
        "if (not shapes or len(shapes) != 1):\n",
        "    print('Cannot detect face landmarks. Exit.')\n",
        "    exit(-1)\n",
        "shape_3d = shapes[0]\n",
        "\n",
        "if(opt_parser.close_input_face_mouth):\n",
        "    util.close_input_face_mouth(shape_3d)"
      ],
      "execution_count": 10,
      "outputs": [
        {
          "output_type": "stream",
          "name": "stderr",
          "text": [
            "Downloading: \"https://www.adrianbulat.com/downloads/python-fan/s3fd-619a316812.pth\" to /root/.cache/torch/hub/checkpoints/s3fd-619a316812.pth\n"
          ]
        },
        {
          "output_type": "display_data",
          "data": {
            "application/vnd.jupyter.widget-view+json": {
              "model_id": "65fc08dcf48d48308e542142388a0e17",
              "version_minor": 0,
              "version_major": 2
            },
            "text/plain": [
              "  0%|          | 0.00/85.7M [00:00<?, ?B/s]"
            ]
          },
          "metadata": {}
        },
        {
          "output_type": "stream",
          "name": "stderr",
          "text": [
            "Downloading: \"https://www.adrianbulat.com/downloads/python-fan/3DFAN4-4a694010b9.zip\" to /root/.cache/torch/hub/checkpoints/3DFAN4-4a694010b9.zip\n"
          ]
        },
        {
          "output_type": "display_data",
          "data": {
            "application/vnd.jupyter.widget-view+json": {
              "model_id": "aa4a884ba1e24cc5abe9218177c0490c",
              "version_minor": 0,
              "version_major": 2
            },
            "text/plain": [
              "  0%|          | 0.00/91.9M [00:00<?, ?B/s]"
            ]
          },
          "metadata": {}
        },
        {
          "output_type": "stream",
          "name": "stderr",
          "text": [
            "Downloading: \"https://www.adrianbulat.com/downloads/python-fan/depth-6c4283c0e0.zip\" to /root/.cache/torch/hub/checkpoints/depth-6c4283c0e0.zip\n"
          ]
        },
        {
          "output_type": "display_data",
          "data": {
            "application/vnd.jupyter.widget-view+json": {
              "model_id": "c627868e73cb47c69ab987d47bf465d8",
              "version_minor": 0,
              "version_major": 2
            },
            "text/plain": [
              "  0%|          | 0.00/224M [00:00<?, ?B/s]"
            ]
          },
          "metadata": {}
        }
      ]
    },
    {
      "cell_type": "markdown",
      "metadata": {
        "id": "c_9LmmACg9Mq"
      },
      "source": [
        "## (Optional) Simple manual adjustment to landmarks in case FAN is not accurate, e.g.\n",
        "- slimmer lips\n",
        "- wider eyes\n",
        "- wider mouth"
      ]
    },
    {
      "cell_type": "code",
      "metadata": {
        "id": "R2PLXNlhgztJ"
      },
      "source": [
        "shape_3d[48:, 0] = (shape_3d[48:, 0] - np.mean(shape_3d[48:, 0])) * 1.05 + np.mean(shape_3d[48:, 0]) # wider lips\n",
        "shape_3d[49:54, 1] += 0.           # thinner upper lip\n",
        "shape_3d[55:60, 1] -= 1.           # thinner lower lip\n",
        "shape_3d[[37,38,43,44], 1] -=2.    # larger eyes\n",
        "shape_3d[[40,41,46,47], 1] +=2.    # larger eyes"
      ],
      "execution_count": 11,
      "outputs": []
    },
    {
      "cell_type": "markdown",
      "metadata": {
        "id": "1nlaLLoShR1k"
      },
      "source": [
        "Normalize face as input to audio branch"
      ]
    },
    {
      "cell_type": "code",
      "metadata": {
        "id": "W0GkD0fThN-2"
      },
      "source": [
        "shape_3d, scale, shift = util.norm_input_face(shape_3d)"
      ],
      "execution_count": 12,
      "outputs": []
    },
    {
      "cell_type": "markdown",
      "metadata": {
        "id": "FAcGrT3PhY3T"
      },
      "source": [
        "## Step 3: Generate input data for inference based on uploaded audio `MakeItTalk/examples/*.wav`"
      ]
    },
    {
      "cell_type": "code",
      "metadata": {
        "id": "Mqh5A_7chQ8g",
        "outputId": "be0ebe8f-d93b-448f-d3cb-f17f7376ba06",
        "colab": {
          "base_uri": "https://localhost:8080/"
        }
      },
      "source": [
        "au_data = []\n",
        "au_emb = []\n",
        "ains = glob.glob1('examples','Audio1.wav')\n",
        "ains = [item for item in ains if item is not 'tmp.wav']\n",
        "ains.sort()\n",
        "for ain in ains:\n",
        "    os.system('ffmpeg -y -loglevel error -i examples/{} -ar 16000 examples/tmp.wav'.format(ain))\n",
        "    shutil.copyfile('examples/tmp.wav', 'examples/{}'.format(ain))\n",
        "\n",
        "    # au embedding\n",
        "    from thirdparty.resemblyer_util.speaker_emb import get_spk_emb\n",
        "    me, ae = get_spk_emb('examples/{}'.format(ain))\n",
        "    au_emb.append(me.reshape(-1))\n",
        "\n",
        "    print('Processing audio file', ain)\n",
        "    c = AutoVC_mel_Convertor('examples')\n",
        "\n",
        "    au_data_i = c.convert_single_wav_to_autovc_input(audio_filename=os.path.join('examples', ain),\n",
        "           autovc_model_path=opt_parser.load_AUTOVC_name)\n",
        "    au_data += au_data_i\n",
        "if(os.path.isfile('examples/tmp.wav')):\n",
        "  os.remove('examples/tmp.wav')\n",
        "\n",
        "# landmark fake placeholder\n",
        "fl_data = []\n",
        "rot_tran, rot_quat, anchor_t_shape = [], [], []\n",
        "for au, info in au_data:\n",
        "    au_length = au.shape[0]\n",
        "    fl = np.zeros(shape=(au_length, 68 * 3))\n",
        "    fl_data.append((fl, info))\n",
        "    rot_tran.append(np.zeros(shape=(au_length, 3, 4)))\n",
        "    rot_quat.append(np.zeros(shape=(au_length, 4)))\n",
        "    anchor_t_shape.append(np.zeros(shape=(au_length, 68 * 3)))\n",
        "\n",
        "if(os.path.exists(os.path.join('examples', 'dump', 'random_val_fl.pickle'))):\n",
        "    os.remove(os.path.join('examples', 'dump', 'random_val_fl.pickle'))\n",
        "if(os.path.exists(os.path.join('examples', 'dump', 'random_val_fl_interp.pickle'))):\n",
        "    os.remove(os.path.join('examples', 'dump', 'random_val_fl_interp.pickle'))\n",
        "if(os.path.exists(os.path.join('examples', 'dump', 'random_val_au.pickle'))):\n",
        "    os.remove(os.path.join('examples', 'dump', 'random_val_au.pickle'))\n",
        "if (os.path.exists(os.path.join('examples', 'dump', 'random_val_gaze.pickle'))):\n",
        "    os.remove(os.path.join('examples', 'dump', 'random_val_gaze.pickle'))\n",
        "\n",
        "with open(os.path.join('examples', 'dump', 'random_val_fl.pickle'), 'wb') as fp:\n",
        "    pickle.dump(fl_data, fp)\n",
        "with open(os.path.join('examples', 'dump', 'random_val_au.pickle'), 'wb') as fp:\n",
        "    pickle.dump(au_data, fp)\n",
        "with open(os.path.join('examples', 'dump', 'random_val_gaze.pickle'), 'wb') as fp:\n",
        "    gaze = {'rot_trans':rot_tran, 'rot_quat':rot_quat, 'anchor_t_shape':anchor_t_shape}\n",
        "    pickle.dump(gaze, fp)"
      ],
      "execution_count": 13,
      "outputs": [
        {
          "output_type": "stream",
          "name": "stdout",
          "text": [
            "Loaded the voice encoder model on cuda in 8.28 seconds.\n",
            "Processing audio file Audio1.wav\n",
            "0 out of 0 are in this portion\n",
            "Loaded the voice encoder model on cuda in 0.03 seconds.\n",
            "source shape: torch.Size([1, 224, 80]) torch.Size([1, 256]) torch.Size([1, 256]) torch.Size([1, 224, 257])\n",
            "converted shape: torch.Size([1, 224, 80]) torch.Size([1, 448])\n"
          ]
        }
      ]
    },
    {
      "cell_type": "markdown",
      "metadata": {
        "id": "vNzY0KtMhkkV"
      },
      "source": [
        "## Step 4: Audio-to-Landmarks prediction"
      ]
    },
    {
      "cell_type": "code",
      "metadata": {
        "id": "WP94GnGchXy8",
        "outputId": "2d7c0f25-e0bb-4de5-ba06-6fa6b1079442",
        "colab": {
          "base_uri": "https://localhost:8080/"
        }
      },
      "source": [
        "!pwd\n",
        "model = Audio2landmark_model(opt_parser, jpg_shape=shape_3d)\n",
        "if(len(opt_parser.reuse_train_emb_list) == 0):\n",
        "    model.test(au_emb=au_emb)\n",
        "else:\n",
        "    model.test(au_emb=None)"
      ],
      "execution_count": 14,
      "outputs": [
        {
          "output_type": "stream",
          "name": "stdout",
          "text": [
            "/content/MakeItTalk\n",
            "Run on device: cuda\n",
            "Loading Data random_val\n",
            "EVAL num videos: 1\n",
            "G: Running on cuda, total num params = 3.00M\n",
            "======== LOAD PRETRAINED FACE ID MODEL examples/ckpt/ckpt_speaker_branch.pth =========\n",
            "======== LOAD PRETRAINED FACE ID MODEL examples/ckpt/ckpt_content_branch.pth =========\n",
            "====================================\n",
            "48uYS3bHIA8\n",
            "YAZuSHvwVC0\n",
            "0yaLdVk_UyQ\n",
            "E_kmpT-EfOg\n",
            "fQR31F7L3ww\n",
            "JPMZAOGGHh8\n",
            "W6uRNCJmdtI\n",
            "2KL8PfQPmBg\n",
            "p575B7k07a8\n",
            "iUoAe2gXKE4\n",
            "HH-iOC056aQ\n",
            "S8fiWqrZEew\n",
            "ROWN2ssXek8\n",
            "irx71tYyI-Q\n",
            "me6cdZCM2FY\n",
            "OkqHtWOFliM\n",
            "OfPKHc6w2vw\n",
            "1lh57VnuaKE\n",
            "_ldiVrXgZKc\n",
            "H1Xnb_rtgqY\n",
            "45hn7-LXDX8\n",
            "bs7ZWVqAGCU\n",
            "UElg0R7fmlk\n",
            "bCs5SoifsiY\n",
            "1Lx_ZqrK1bM\n",
            "RrnL6Pcjjbw\n",
            "sRbWv2R2hxE\n",
            "wJmdE0G4sEg\n",
            "hE-4e1vEiT8\n",
            "XXbxe3fCQqg\n",
            "02HOKnTjBlQ\n",
            "wAAMEC1OsRc\n",
            "7Sk--XzX8b0\n",
            "I5Lm0Qce5kg\n",
            "qLxfiUMYgQg\n",
            "_VpqWkdcaqM\n",
            "ljIkW4uVVQY\n",
            "5m5iPZNJS6c\n",
            "J-NPsvtQ8lE\n",
            "gOrQyrbptGo\n",
            "43BiUVlNy58\n",
            "swLghyvhoqA\n",
            "X3FCAoFnmdA\n",
            "2NiCRAmwoc4\n",
            "KVUf0J2LAaA\n",
            "YtZS9hH1j24\n",
            "5fZj9Fzi5K0\n",
            "wbWKG26ebMw\n",
            "QgNlXur0wrs\n",
            "qek_5m1MRik\n",
            "rmFsUV5ICKk\n",
            "bEdGv1wixF4\n",
            "ljh5PB6Utsc\n",
            "izudwWTXuUk\n",
            "B08yOvYMF7Y\n",
            "UEmI4r5G-5Y\n",
            "Scujgl9GbHA\n",
            "sxCbrYjBsGA\n",
            "qvQC0w3y_Fo\n",
            "bXpavyiCu10\n",
            "iWeklsXc0H8\n",
            "H00oAfd_GsM\n",
            "Z7WRt--g-h4\n",
            "29k8RtSUjE0\n",
            "E0zgrhQ0QDw\n",
            "9KhvSxKE6Mc\n",
            "qLNvRwMkhik\n",
            "====================================\n"
          ]
        },
        {
          "output_type": "stream",
          "name": "stderr",
          "text": [
            "/content/MakeItTalk/src/approaches/train_audio2landmark.py:98: UserWarning: To copy construct from a tensor, it is recommended to use sourceTensor.clone().detach() or sourceTensor.clone().detach().requires_grad_(True), rather than torch.tensor(sourceTensor).\n",
            "  z = torch.tensor(torch.zeros(aus.shape[0], 128), requires_grad=False, dtype=torch.float).to(device)\n"
          ]
        },
        {
          "output_type": "stream",
          "name": "stdout",
          "text": [
            "examples/Audio1.wav\n"
          ]
        }
      ]
    },
    {
      "cell_type": "markdown",
      "metadata": {
        "id": "PFaYlUNNjnxn"
      },
      "source": [
        "## Step 5: Natural face animation via Image-to-image translation "
      ]
    },
    {
      "cell_type": "code",
      "metadata": {
        "id": "-xYBO_czjFSD",
        "colab": {
          "base_uri": "https://localhost:8080/"
        },
        "outputId": "304a20e9-5e3a-4373-a246-ac0e3bbe8d26"
      },
      "source": [
        "fls = glob.glob1('examples', 'pred_fls_*.txt')\n",
        "fls.sort()\n",
        "\n",
        "for i in range(0,len(fls)):\n",
        "    fl = np.loadtxt(os.path.join('examples', fls[i])).reshape((-1, 68,3))\n",
        "    fl[:, :, 0:2] = -fl[:, :, 0:2]\n",
        "    fl[:, :, 0:2] = fl[:, :, 0:2] / scale - shift\n",
        "\n",
        "    if (ADD_NAIVE_EYE):\n",
        "        fl = util.add_naive_eye(fl)\n",
        "\n",
        "    # additional smooth\n",
        "    fl = fl.reshape((-1, 204))\n",
        "    fl[:, :48 * 3] = savgol_filter(fl[:, :48 * 3], 15, 3, axis=0)\n",
        "    fl[:, 48*3:] = savgol_filter(fl[:, 48*3:], 5, 3, axis=0)\n",
        "    fl = fl.reshape((-1, 68, 3))\n",
        "\n",
        "    ''' STEP 6: Imag2image translation '''\n",
        "    model = Image_translation_block(opt_parser, single_test=True)\n",
        "    with torch.no_grad():\n",
        "        model.single_test(jpg=img, fls=fl, filename=fls[i], prefix=opt_parser.JPG.split('.')[0])\n",
        "        print('finish image2image gen')\n",
        "    os.remove(os.path.join('examples', fls[i]))"
      ],
      "execution_count": 15,
      "outputs": [
        {
          "output_type": "stream",
          "name": "stdout",
          "text": [
            "Run on device cuda\n",
            "Time - only video: 23.278100728988647\n",
            "Time - ffmpeg add audio: 25.03688359260559\n",
            "finish image2image gen\n"
          ]
        }
      ]
    },
    {
      "cell_type": "markdown",
      "metadata": {
        "id": "P8mMguI_j1TQ"
      },
      "source": [
        "## Visualize your animation!"
      ]
    },
    {
      "cell_type": "code",
      "source": [
        "from IPython.display import HTML,display\n",
        "from base64 import b64encode\n",
        "OUTPUT_MP4_NAME = '{}_pred_fls_{}_audio_embed.mp4'.format(\n",
        "      opt_parser.JPG.split('.')[0],\n",
        "      ain.split('.')[0]\n",
        "      )\n",
        "mp4 = open('examples/{}'.format(OUTPUT_MP4_NAME),'rb').read()\n",
        "data_url = \"data:video/mp4;base64,\" + b64encode(mp4).decode()\n",
        "display(HTML(\"\"\"<video width=600 controls><source src=\"%s\" type=\"video/mp4\"></video>\"\"\" % data_url))"
      ],
      "metadata": {
        "colab": {
          "base_uri": "https://localhost:8080/",
          "height": 221
        },
        "id": "KD93xlrUWgR8",
        "outputId": "fb30b31e-6c67-4e8b-caca-fd62c9b31857"
      },
      "execution_count": 16,
      "outputs": [
        {
          "output_type": "display_data",
          "data": {
            "text/html": [
              "<video width=600 controls><source src=\"data:video/mp4;base64,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\" type=\"video/mp4\"></video>"
            ],
            "text/plain": [
              "<IPython.core.display.HTML object>"
            ]
          },
          "metadata": {}
        }
      ]
    }
  ]
}